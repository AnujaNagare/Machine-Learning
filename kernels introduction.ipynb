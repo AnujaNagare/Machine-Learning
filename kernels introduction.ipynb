{
 "cells": [
  {
   "cell_type": "markdown",
   "metadata": {
    "collapsed": true
   },
   "source": [
    "### major element of kernel is they use inner product\n",
    "\n",
    "Kernel is a way of computing the dot product of two vectors x and y in some (possibly very high dimensional) feature space\n",
    "- which is why kernel functions are sometimes called \"generalized dot product\". \n",
    "\n",
    "- kernel is used inside the decision function. \n",
    "\n",
    "- inner product is a projection of x1 onto x2\n",
    "  - degree of similarity: gives how much overlap we have\n",
    "  - kernels can be used to transform feature space/ x space\n",
    "  - every interaction with that feature space is an inner product reaction "
   ]
  },
  {
   "cell_type": "code",
   "execution_count": 9,
   "metadata": {
    "collapsed": true
   },
   "outputs": [],
   "source": [
    "import numpy as np"
   ]
  },
  {
   "cell_type": "code",
   "execution_count": 10,
   "metadata": {
    "collapsed": true
   },
   "outputs": [],
   "source": [
    "x1 = np.array([5,3,2])\n",
    "x2 = np.array([2,1,1])"
   ]
  },
  {
   "cell_type": "code",
   "execution_count": 11,
   "metadata": {},
   "outputs": [
    {
     "data": {
      "text/plain": [
       "15"
      ]
     },
     "execution_count": 11,
     "metadata": {},
     "output_type": "execute_result"
    }
   ],
   "source": [
    "np.dot(x1,x2)"
   ]
  },
  {
   "cell_type": "code",
   "execution_count": 12,
   "metadata": {},
   "outputs": [
    {
     "data": {
      "text/plain": [
       "15"
      ]
     },
     "execution_count": 12,
     "metadata": {},
     "output_type": "execute_result"
    }
   ],
   "source": [
    "np.inner(x1,x2)"
   ]
  },
  {
   "cell_type": "code",
   "execution_count": 13,
   "metadata": {},
   "outputs": [
    {
     "data": {
      "text/plain": [
       "15"
      ]
     },
     "execution_count": 13,
     "metadata": {},
     "output_type": "execute_result"
    }
   ],
   "source": [
    "(5*2) + (3*1) + (2*1)"
   ]
  },
  {
   "cell_type": "markdown",
   "metadata": {},
   "source": [
    "y = sign(W.X + b)\n",
    "\n",
    "W.X => gives a scalar value\n",
    "\n",
    "- constraint1:\n",
    "    yi(xi. w +b) - 1 >=0\n",
    "    \n",
    "    replace xi. w => zi\n",
    "    \n",
    "    yi(zi +b) - 1 >=0\n",
    "    \n",
    "    \n",
    "- constraint1:     \n",
    "    w = sum( alphai . yi . xi)\n",
    "    \n",
    "    L = sum(alphai - (1/2) sum(alphai . alphaj . yi. yj. (xi.xj) "
   ]
  },
  {
   "cell_type": "code",
   "execution_count": null,
   "metadata": {
    "collapsed": true
   },
   "outputs": [],
   "source": []
  }
 ],
 "metadata": {
  "kernelspec": {
   "display_name": "Python 3",
   "language": "python",
   "name": "python3"
  },
  "language_info": {
   "codemirror_mode": {
    "name": "ipython",
    "version": 3
   },
   "file_extension": ".py",
   "mimetype": "text/x-python",
   "name": "python",
   "nbconvert_exporter": "python",
   "pygments_lexer": "ipython3",
   "version": "3.6.3"
  }
 },
 "nbformat": 4,
 "nbformat_minor": 2
}
